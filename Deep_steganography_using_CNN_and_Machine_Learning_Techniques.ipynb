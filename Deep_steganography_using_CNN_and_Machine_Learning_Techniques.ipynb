{
  "nbformat": 4,
  "nbformat_minor": 0,
  "metadata": {
    "colab": {
      "provenance": [],
      "authorship_tag": "ABX9TyOff4moCjlt2yJo85CWWvJC",
      "include_colab_link": true
    },
    "kernelspec": {
      "name": "python3",
      "display_name": "Python 3"
    },
    "language_info": {
      "name": "python"
    }
  },
  "cells": [
    {
      "cell_type": "markdown",
      "metadata": {
        "id": "view-in-github",
        "colab_type": "text"
      },
      "source": [
        "<a href=\"https://colab.research.google.com/github/virenvaghasiya/Deep_steganography_using_CNN_and_Machine_Learning_Techniques/blob/main/Deep_steganography_using_CNN_and_Machine_Learning_Techniques.ipynb\" target=\"_parent\"><img src=\"https://colab.research.google.com/assets/colab-badge.svg\" alt=\"Open In Colab\"/></a>"
      ]
    },
    {
      "cell_type": "code",
      "source": [
        "!pip install scipy\n",
        "!pip install scikit-learn\n",
        "!pip install opencv-python\n",
        "!pip install tensorflow\n",
        "!pip install scikeras"
      ],
      "metadata": {
        "colab": {
          "base_uri": "https://localhost:8080/",
          "height": 1000
        },
        "id": "QKCtfl3wASJj",
        "outputId": "52ad4d7e-4f83-4208-9c43-d7f168b9137f"
      },
      "execution_count": 16,
      "outputs": [
        {
          "output_type": "stream",
          "name": "stdout",
          "text": [
            "Requirement already satisfied: scipy in /usr/local/lib/python3.10/dist-packages (1.11.4)\n",
            "Requirement already satisfied: numpy<1.28.0,>=1.21.6 in /usr/local/lib/python3.10/dist-packages (from scipy) (1.25.2)\n",
            "Requirement already satisfied: scikit-learn in /usr/local/lib/python3.10/dist-packages (1.2.2)\n",
            "Requirement already satisfied: numpy>=1.17.3 in /usr/local/lib/python3.10/dist-packages (from scikit-learn) (1.25.2)\n",
            "Requirement already satisfied: scipy>=1.3.2 in /usr/local/lib/python3.10/dist-packages (from scikit-learn) (1.11.4)\n",
            "Requirement already satisfied: joblib>=1.1.1 in /usr/local/lib/python3.10/dist-packages (from scikit-learn) (1.4.0)\n",
            "Requirement already satisfied: threadpoolctl>=2.0.0 in /usr/local/lib/python3.10/dist-packages (from scikit-learn) (3.4.0)\n",
            "Requirement already satisfied: opencv-python in /usr/local/lib/python3.10/dist-packages (4.8.0.76)\n",
            "Requirement already satisfied: numpy>=1.21.2 in /usr/local/lib/python3.10/dist-packages (from opencv-python) (1.25.2)\n",
            "Requirement already satisfied: tensorflow in /usr/local/lib/python3.10/dist-packages (2.15.0)\n",
            "Requirement already satisfied: absl-py>=1.0.0 in /usr/local/lib/python3.10/dist-packages (from tensorflow) (1.4.0)\n",
            "Requirement already satisfied: astunparse>=1.6.0 in /usr/local/lib/python3.10/dist-packages (from tensorflow) (1.6.3)\n",
            "Requirement already satisfied: flatbuffers>=23.5.26 in /usr/local/lib/python3.10/dist-packages (from tensorflow) (24.3.25)\n",
            "Requirement already satisfied: gast!=0.5.0,!=0.5.1,!=0.5.2,>=0.2.1 in /usr/local/lib/python3.10/dist-packages (from tensorflow) (0.5.4)\n",
            "Requirement already satisfied: google-pasta>=0.1.1 in /usr/local/lib/python3.10/dist-packages (from tensorflow) (0.2.0)\n",
            "Requirement already satisfied: h5py>=2.9.0 in /usr/local/lib/python3.10/dist-packages (from tensorflow) (3.9.0)\n",
            "Requirement already satisfied: libclang>=13.0.0 in /usr/local/lib/python3.10/dist-packages (from tensorflow) (18.1.1)\n",
            "Requirement already satisfied: ml-dtypes~=0.2.0 in /usr/local/lib/python3.10/dist-packages (from tensorflow) (0.2.0)\n",
            "Requirement already satisfied: numpy<2.0.0,>=1.23.5 in /usr/local/lib/python3.10/dist-packages (from tensorflow) (1.25.2)\n",
            "Requirement already satisfied: opt-einsum>=2.3.2 in /usr/local/lib/python3.10/dist-packages (from tensorflow) (3.3.0)\n",
            "Requirement already satisfied: packaging in /usr/local/lib/python3.10/dist-packages (from tensorflow) (24.0)\n",
            "Requirement already satisfied: protobuf!=4.21.0,!=4.21.1,!=4.21.2,!=4.21.3,!=4.21.4,!=4.21.5,<5.0.0dev,>=3.20.3 in /usr/local/lib/python3.10/dist-packages (from tensorflow) (3.20.3)\n",
            "Requirement already satisfied: setuptools in /usr/local/lib/python3.10/dist-packages (from tensorflow) (67.7.2)\n",
            "Requirement already satisfied: six>=1.12.0 in /usr/local/lib/python3.10/dist-packages (from tensorflow) (1.16.0)\n",
            "Requirement already satisfied: termcolor>=1.1.0 in /usr/local/lib/python3.10/dist-packages (from tensorflow) (2.4.0)\n",
            "Requirement already satisfied: typing-extensions>=3.6.6 in /usr/local/lib/python3.10/dist-packages (from tensorflow) (4.11.0)\n",
            "Requirement already satisfied: wrapt<1.15,>=1.11.0 in /usr/local/lib/python3.10/dist-packages (from tensorflow) (1.14.1)\n",
            "Requirement already satisfied: tensorflow-io-gcs-filesystem>=0.23.1 in /usr/local/lib/python3.10/dist-packages (from tensorflow) (0.36.0)\n",
            "Requirement already satisfied: grpcio<2.0,>=1.24.3 in /usr/local/lib/python3.10/dist-packages (from tensorflow) (1.62.1)\n",
            "Requirement already satisfied: tensorboard<2.16,>=2.15 in /usr/local/lib/python3.10/dist-packages (from tensorflow) (2.15.2)\n",
            "Requirement already satisfied: tensorflow-estimator<2.16,>=2.15.0 in /usr/local/lib/python3.10/dist-packages (from tensorflow) (2.15.0)\n",
            "Requirement already satisfied: keras<2.16,>=2.15.0 in /usr/local/lib/python3.10/dist-packages (from tensorflow) (2.15.0)\n",
            "Requirement already satisfied: wheel<1.0,>=0.23.0 in /usr/local/lib/python3.10/dist-packages (from astunparse>=1.6.0->tensorflow) (0.43.0)\n",
            "Requirement already satisfied: google-auth<3,>=1.6.3 in /usr/local/lib/python3.10/dist-packages (from tensorboard<2.16,>=2.15->tensorflow) (2.27.0)\n",
            "Requirement already satisfied: google-auth-oauthlib<2,>=0.5 in /usr/local/lib/python3.10/dist-packages (from tensorboard<2.16,>=2.15->tensorflow) (1.2.0)\n",
            "Requirement already satisfied: markdown>=2.6.8 in /usr/local/lib/python3.10/dist-packages (from tensorboard<2.16,>=2.15->tensorflow) (3.6)\n",
            "Requirement already satisfied: requests<3,>=2.21.0 in /usr/local/lib/python3.10/dist-packages (from tensorboard<2.16,>=2.15->tensorflow) (2.31.0)\n",
            "Requirement already satisfied: tensorboard-data-server<0.8.0,>=0.7.0 in /usr/local/lib/python3.10/dist-packages (from tensorboard<2.16,>=2.15->tensorflow) (0.7.2)\n",
            "Requirement already satisfied: werkzeug>=1.0.1 in /usr/local/lib/python3.10/dist-packages (from tensorboard<2.16,>=2.15->tensorflow) (3.0.2)\n",
            "Requirement already satisfied: cachetools<6.0,>=2.0.0 in /usr/local/lib/python3.10/dist-packages (from google-auth<3,>=1.6.3->tensorboard<2.16,>=2.15->tensorflow) (5.3.3)\n",
            "Requirement already satisfied: pyasn1-modules>=0.2.1 in /usr/local/lib/python3.10/dist-packages (from google-auth<3,>=1.6.3->tensorboard<2.16,>=2.15->tensorflow) (0.4.0)\n",
            "Requirement already satisfied: rsa<5,>=3.1.4 in /usr/local/lib/python3.10/dist-packages (from google-auth<3,>=1.6.3->tensorboard<2.16,>=2.15->tensorflow) (4.9)\n",
            "Requirement already satisfied: requests-oauthlib>=0.7.0 in /usr/local/lib/python3.10/dist-packages (from google-auth-oauthlib<2,>=0.5->tensorboard<2.16,>=2.15->tensorflow) (1.3.1)\n",
            "Requirement already satisfied: charset-normalizer<4,>=2 in /usr/local/lib/python3.10/dist-packages (from requests<3,>=2.21.0->tensorboard<2.16,>=2.15->tensorflow) (3.3.2)\n",
            "Requirement already satisfied: idna<4,>=2.5 in /usr/local/lib/python3.10/dist-packages (from requests<3,>=2.21.0->tensorboard<2.16,>=2.15->tensorflow) (3.6)\n",
            "Requirement already satisfied: urllib3<3,>=1.21.1 in /usr/local/lib/python3.10/dist-packages (from requests<3,>=2.21.0->tensorboard<2.16,>=2.15->tensorflow) (2.0.7)\n",
            "Requirement already satisfied: certifi>=2017.4.17 in /usr/local/lib/python3.10/dist-packages (from requests<3,>=2.21.0->tensorboard<2.16,>=2.15->tensorflow) (2024.2.2)\n",
            "Requirement already satisfied: MarkupSafe>=2.1.1 in /usr/local/lib/python3.10/dist-packages (from werkzeug>=1.0.1->tensorboard<2.16,>=2.15->tensorflow) (2.1.5)\n",
            "Requirement already satisfied: pyasn1<0.7.0,>=0.4.6 in /usr/local/lib/python3.10/dist-packages (from pyasn1-modules>=0.2.1->google-auth<3,>=1.6.3->tensorboard<2.16,>=2.15->tensorflow) (0.6.0)\n",
            "Requirement already satisfied: oauthlib>=3.0.0 in /usr/local/lib/python3.10/dist-packages (from requests-oauthlib>=0.7.0->google-auth-oauthlib<2,>=0.5->tensorboard<2.16,>=2.15->tensorflow) (3.2.2)\n",
            "Collecting scikeras\n",
            "  Downloading scikeras-0.13.0-py3-none-any.whl (26 kB)\n",
            "Collecting keras>=3.2.0 (from scikeras)\n",
            "  Downloading keras-3.2.1-py3-none-any.whl (1.1 MB)\n",
            "\u001b[2K     \u001b[90m━━━━━━━━━━━━━━━━━━━━━━━━━━━━━━━━━━━━━━━━\u001b[0m \u001b[32m1.1/1.1 MB\u001b[0m \u001b[31m8.1 MB/s\u001b[0m eta \u001b[36m0:00:00\u001b[0m\n",
            "\u001b[?25hCollecting scikit-learn>=1.4.2 (from scikeras)\n",
            "  Downloading scikit_learn-1.4.2-cp310-cp310-manylinux_2_17_x86_64.manylinux2014_x86_64.whl (12.1 MB)\n",
            "\u001b[2K     \u001b[90m━━━━━━━━━━━━━━━━━━━━━━━━━━━━━━━━━━━━━━━━\u001b[0m \u001b[32m12.1/12.1 MB\u001b[0m \u001b[31m36.7 MB/s\u001b[0m eta \u001b[36m0:00:00\u001b[0m\n",
            "\u001b[?25hRequirement already satisfied: absl-py in /usr/local/lib/python3.10/dist-packages (from keras>=3.2.0->scikeras) (1.4.0)\n",
            "Requirement already satisfied: numpy in /usr/local/lib/python3.10/dist-packages (from keras>=3.2.0->scikeras) (1.25.2)\n",
            "Requirement already satisfied: rich in /usr/local/lib/python3.10/dist-packages (from keras>=3.2.0->scikeras) (13.7.1)\n",
            "Collecting namex (from keras>=3.2.0->scikeras)\n",
            "  Downloading namex-0.0.8-py3-none-any.whl (5.8 kB)\n",
            "Requirement already satisfied: h5py in /usr/local/lib/python3.10/dist-packages (from keras>=3.2.0->scikeras) (3.9.0)\n",
            "Collecting optree (from keras>=3.2.0->scikeras)\n",
            "  Downloading optree-0.11.0-cp310-cp310-manylinux_2_17_x86_64.manylinux2014_x86_64.whl (311 kB)\n",
            "\u001b[2K     \u001b[90m━━━━━━━━━━━━━━━━━━━━━━━━━━━━━━━━━━━━━━━━\u001b[0m \u001b[32m311.2/311.2 kB\u001b[0m \u001b[31m38.0 MB/s\u001b[0m eta \u001b[36m0:00:00\u001b[0m\n",
            "\u001b[?25hRequirement already satisfied: ml-dtypes in /usr/local/lib/python3.10/dist-packages (from keras>=3.2.0->scikeras) (0.2.0)\n",
            "Requirement already satisfied: scipy>=1.6.0 in /usr/local/lib/python3.10/dist-packages (from scikit-learn>=1.4.2->scikeras) (1.11.4)\n",
            "Requirement already satisfied: joblib>=1.2.0 in /usr/local/lib/python3.10/dist-packages (from scikit-learn>=1.4.2->scikeras) (1.4.0)\n",
            "Requirement already satisfied: threadpoolctl>=2.0.0 in /usr/local/lib/python3.10/dist-packages (from scikit-learn>=1.4.2->scikeras) (3.4.0)\n",
            "Requirement already satisfied: typing-extensions>=4.0.0 in /usr/local/lib/python3.10/dist-packages (from optree->keras>=3.2.0->scikeras) (4.11.0)\n",
            "Requirement already satisfied: markdown-it-py>=2.2.0 in /usr/local/lib/python3.10/dist-packages (from rich->keras>=3.2.0->scikeras) (3.0.0)\n",
            "Requirement already satisfied: pygments<3.0.0,>=2.13.0 in /usr/local/lib/python3.10/dist-packages (from rich->keras>=3.2.0->scikeras) (2.16.1)\n",
            "Requirement already satisfied: mdurl~=0.1 in /usr/local/lib/python3.10/dist-packages (from markdown-it-py>=2.2.0->rich->keras>=3.2.0->scikeras) (0.1.2)\n",
            "Installing collected packages: namex, optree, scikit-learn, keras, scikeras\n",
            "  Attempting uninstall: scikit-learn\n",
            "    Found existing installation: scikit-learn 1.2.2\n",
            "    Uninstalling scikit-learn-1.2.2:\n",
            "      Successfully uninstalled scikit-learn-1.2.2\n",
            "  Attempting uninstall: keras\n",
            "    Found existing installation: keras 2.15.0\n",
            "    Uninstalling keras-2.15.0:\n",
            "      Successfully uninstalled keras-2.15.0\n",
            "\u001b[31mERROR: pip's dependency resolver does not currently take into account all the packages that are installed. This behaviour is the source of the following dependency conflicts.\n",
            "tensorflow 2.15.0 requires keras<2.16,>=2.15.0, but you have keras 3.2.1 which is incompatible.\u001b[0m\u001b[31m\n",
            "\u001b[0mSuccessfully installed keras-3.2.1 namex-0.0.8 optree-0.11.0 scikeras-0.13.0 scikit-learn-1.4.2\n"
          ]
        },
        {
          "output_type": "display_data",
          "data": {
            "application/vnd.colab-display-data+json": {
              "pip_warning": {
                "packages": [
                  "keras"
                ]
              },
              "id": "8daca13a81534d3d96adf0ac45039c9e"
            }
          },
          "metadata": {}
        }
      ]
    },
    {
      "cell_type": "code",
      "source": [
        "import tensorflow as tf\n",
        "from tensorflow.keras.callbacks import ModelCheckpoint, LearningRateScheduler, TensorBoard\n",
        "from tensorflow.keras.layers import *\n",
        "from tensorflow.keras.models import Model, Sequential\n",
        "from tensorflow.keras.preprocessing import image\n",
        "import tensorflow.keras.backend as K\n",
        "import matplotlib.pyplot as plt\n",
        "import numpy as np\n",
        "import os\n",
        "import random\n",
        "from tqdm import tqdm\n",
        "import pandas as pd\n",
        "\n",
        "from tensorflow.keras.datasets import mnist, cifar10\n",
        "from tensorflow.keras.optimizers import Adam\n",
        "from tensorflow.keras.utils import to_categorical\n",
        "from tensorflow.keras.preprocessing.image import ImageDataGenerator\n",
        "from tensorflow.keras.callbacks import Callback, ModelCheckpoint\n",
        "from scikeras.wrappers import KerasClassifier, KerasRegressor\n",
        "from sklearn.preprocessing import OneHotEncoder\n",
        "\n",
        "from scipy import ndimage\n",
        "\n",
        "import cv2\n",
        "\n"
      ],
      "metadata": {
        "id": "2mphkMuiAHKh"
      },
      "execution_count": 1,
      "outputs": []
    },
    {
      "cell_type": "code",
      "execution_count": 2,
      "metadata": {
        "colab": {
          "base_uri": "https://localhost:8080/",
          "height": 86
        },
        "id": "wWJ7c01EiclJ",
        "outputId": "dc46e32a-fe9b-43bf-be8d-55b2d530950e"
      },
      "outputs": [
        {
          "output_type": "display_data",
          "data": {
            "text/plain": [
              "<IPython.core.display.HTML object>"
            ],
            "text/html": [
              "\n",
              "     <input type=\"file\" id=\"files-9f59ab81-a2df-4ad0-8dd8-350a809819e7\" name=\"files[]\" multiple disabled\n",
              "        style=\"border:none\" />\n",
              "     <output id=\"result-9f59ab81-a2df-4ad0-8dd8-350a809819e7\">\n",
              "      Upload widget is only available when the cell has been executed in the\n",
              "      current browser session. Please rerun this cell to enable.\n",
              "      </output>\n",
              "      <script>// Copyright 2017 Google LLC\n",
              "//\n",
              "// Licensed under the Apache License, Version 2.0 (the \"License\");\n",
              "// you may not use this file except in compliance with the License.\n",
              "// You may obtain a copy of the License at\n",
              "//\n",
              "//      http://www.apache.org/licenses/LICENSE-2.0\n",
              "//\n",
              "// Unless required by applicable law or agreed to in writing, software\n",
              "// distributed under the License is distributed on an \"AS IS\" BASIS,\n",
              "// WITHOUT WARRANTIES OR CONDITIONS OF ANY KIND, either express or implied.\n",
              "// See the License for the specific language governing permissions and\n",
              "// limitations under the License.\n",
              "\n",
              "/**\n",
              " * @fileoverview Helpers for google.colab Python module.\n",
              " */\n",
              "(function(scope) {\n",
              "function span(text, styleAttributes = {}) {\n",
              "  const element = document.createElement('span');\n",
              "  element.textContent = text;\n",
              "  for (const key of Object.keys(styleAttributes)) {\n",
              "    element.style[key] = styleAttributes[key];\n",
              "  }\n",
              "  return element;\n",
              "}\n",
              "\n",
              "// Max number of bytes which will be uploaded at a time.\n",
              "const MAX_PAYLOAD_SIZE = 100 * 1024;\n",
              "\n",
              "function _uploadFiles(inputId, outputId) {\n",
              "  const steps = uploadFilesStep(inputId, outputId);\n",
              "  const outputElement = document.getElementById(outputId);\n",
              "  // Cache steps on the outputElement to make it available for the next call\n",
              "  // to uploadFilesContinue from Python.\n",
              "  outputElement.steps = steps;\n",
              "\n",
              "  return _uploadFilesContinue(outputId);\n",
              "}\n",
              "\n",
              "// This is roughly an async generator (not supported in the browser yet),\n",
              "// where there are multiple asynchronous steps and the Python side is going\n",
              "// to poll for completion of each step.\n",
              "// This uses a Promise to block the python side on completion of each step,\n",
              "// then passes the result of the previous step as the input to the next step.\n",
              "function _uploadFilesContinue(outputId) {\n",
              "  const outputElement = document.getElementById(outputId);\n",
              "  const steps = outputElement.steps;\n",
              "\n",
              "  const next = steps.next(outputElement.lastPromiseValue);\n",
              "  return Promise.resolve(next.value.promise).then((value) => {\n",
              "    // Cache the last promise value to make it available to the next\n",
              "    // step of the generator.\n",
              "    outputElement.lastPromiseValue = value;\n",
              "    return next.value.response;\n",
              "  });\n",
              "}\n",
              "\n",
              "/**\n",
              " * Generator function which is called between each async step of the upload\n",
              " * process.\n",
              " * @param {string} inputId Element ID of the input file picker element.\n",
              " * @param {string} outputId Element ID of the output display.\n",
              " * @return {!Iterable<!Object>} Iterable of next steps.\n",
              " */\n",
              "function* uploadFilesStep(inputId, outputId) {\n",
              "  const inputElement = document.getElementById(inputId);\n",
              "  inputElement.disabled = false;\n",
              "\n",
              "  const outputElement = document.getElementById(outputId);\n",
              "  outputElement.innerHTML = '';\n",
              "\n",
              "  const pickedPromise = new Promise((resolve) => {\n",
              "    inputElement.addEventListener('change', (e) => {\n",
              "      resolve(e.target.files);\n",
              "    });\n",
              "  });\n",
              "\n",
              "  const cancel = document.createElement('button');\n",
              "  inputElement.parentElement.appendChild(cancel);\n",
              "  cancel.textContent = 'Cancel upload';\n",
              "  const cancelPromise = new Promise((resolve) => {\n",
              "    cancel.onclick = () => {\n",
              "      resolve(null);\n",
              "    };\n",
              "  });\n",
              "\n",
              "  // Wait for the user to pick the files.\n",
              "  const files = yield {\n",
              "    promise: Promise.race([pickedPromise, cancelPromise]),\n",
              "    response: {\n",
              "      action: 'starting',\n",
              "    }\n",
              "  };\n",
              "\n",
              "  cancel.remove();\n",
              "\n",
              "  // Disable the input element since further picks are not allowed.\n",
              "  inputElement.disabled = true;\n",
              "\n",
              "  if (!files) {\n",
              "    return {\n",
              "      response: {\n",
              "        action: 'complete',\n",
              "      }\n",
              "    };\n",
              "  }\n",
              "\n",
              "  for (const file of files) {\n",
              "    const li = document.createElement('li');\n",
              "    li.append(span(file.name, {fontWeight: 'bold'}));\n",
              "    li.append(span(\n",
              "        `(${file.type || 'n/a'}) - ${file.size} bytes, ` +\n",
              "        `last modified: ${\n",
              "            file.lastModifiedDate ? file.lastModifiedDate.toLocaleDateString() :\n",
              "                                    'n/a'} - `));\n",
              "    const percent = span('0% done');\n",
              "    li.appendChild(percent);\n",
              "\n",
              "    outputElement.appendChild(li);\n",
              "\n",
              "    const fileDataPromise = new Promise((resolve) => {\n",
              "      const reader = new FileReader();\n",
              "      reader.onload = (e) => {\n",
              "        resolve(e.target.result);\n",
              "      };\n",
              "      reader.readAsArrayBuffer(file);\n",
              "    });\n",
              "    // Wait for the data to be ready.\n",
              "    let fileData = yield {\n",
              "      promise: fileDataPromise,\n",
              "      response: {\n",
              "        action: 'continue',\n",
              "      }\n",
              "    };\n",
              "\n",
              "    // Use a chunked sending to avoid message size limits. See b/62115660.\n",
              "    let position = 0;\n",
              "    do {\n",
              "      const length = Math.min(fileData.byteLength - position, MAX_PAYLOAD_SIZE);\n",
              "      const chunk = new Uint8Array(fileData, position, length);\n",
              "      position += length;\n",
              "\n",
              "      const base64 = btoa(String.fromCharCode.apply(null, chunk));\n",
              "      yield {\n",
              "        response: {\n",
              "          action: 'append',\n",
              "          file: file.name,\n",
              "          data: base64,\n",
              "        },\n",
              "      };\n",
              "\n",
              "      let percentDone = fileData.byteLength === 0 ?\n",
              "          100 :\n",
              "          Math.round((position / fileData.byteLength) * 100);\n",
              "      percent.textContent = `${percentDone}% done`;\n",
              "\n",
              "    } while (position < fileData.byteLength);\n",
              "  }\n",
              "\n",
              "  // All done.\n",
              "  yield {\n",
              "    response: {\n",
              "      action: 'complete',\n",
              "    }\n",
              "  };\n",
              "}\n",
              "\n",
              "scope.google = scope.google || {};\n",
              "scope.google.colab = scope.google.colab || {};\n",
              "scope.google.colab._files = {\n",
              "  _uploadFiles,\n",
              "  _uploadFilesContinue,\n",
              "};\n",
              "})(self);\n",
              "</script> "
            ]
          },
          "metadata": {}
        },
        {
          "output_type": "stream",
          "name": "stdout",
          "text": [
            "Saving kaggle.json to kaggle (2).json\n"
          ]
        },
        {
          "output_type": "execute_result",
          "data": {
            "text/plain": [
              "{'kaggle (2).json': b'{\"username\":\"virenvaghasiya\",\"key\":\"e800f68187848c18a08d1f049f133da4\"}'}"
            ]
          },
          "metadata": {},
          "execution_count": 2
        }
      ],
      "source": [
        "from google.colab import files\n",
        "files.upload()"
      ]
    },
    {
      "cell_type": "code",
      "source": [
        "! mkdir ~/.kaggle"
      ],
      "metadata": {
        "colab": {
          "base_uri": "https://localhost:8080/"
        },
        "id": "vHe21goijTNE",
        "outputId": "565d16ec-b433-4b14-ac45-21d41ffc7cbb"
      },
      "execution_count": 3,
      "outputs": [
        {
          "output_type": "stream",
          "name": "stdout",
          "text": [
            "mkdir: cannot create directory ‘/root/.kaggle’: File exists\n"
          ]
        }
      ]
    },
    {
      "cell_type": "code",
      "source": [
        "!cp kaggle.json ~/.kaggle"
      ],
      "metadata": {
        "id": "gZQ9dtTXjXRc"
      },
      "execution_count": 9,
      "outputs": []
    },
    {
      "cell_type": "code",
      "source": [
        "!chmod 600 ~/.kaggle/kaggle.json"
      ],
      "metadata": {
        "id": "f4MBbBgjjYcK"
      },
      "execution_count": 6,
      "outputs": []
    },
    {
      "cell_type": "code",
      "source": [
        "!kaggle datasets download -d nikhilshingadiya/tinyimagenet200"
      ],
      "metadata": {
        "colab": {
          "base_uri": "https://localhost:8080/"
        },
        "id": "AgmwISeZjeGW",
        "outputId": "d0529722-cf91-4add-8703-04cb14dc4172"
      },
      "execution_count": 10,
      "outputs": [
        {
          "output_type": "stream",
          "name": "stdout",
          "text": [
            "tinyimagenet200.zip: Skipping, found more recently modified local copy (use --force to force download)\n"
          ]
        }
      ]
    },
    {
      "cell_type": "markdown",
      "source": [
        "**Data Preparation**"
      ],
      "metadata": {
        "id": "aOda-cTOkX_d"
      }
    },
    {
      "cell_type": "code",
      "source": [
        "!unzip tinyimagenet200.zip"
      ],
      "metadata": {
        "colab": {
          "base_uri": "https://localhost:8080/"
        },
        "id": "_U6_q2HSjggf",
        "outputId": "154fcfee-a723-4cc2-e30d-c60c770f53d0"
      },
      "execution_count": 7,
      "outputs": [
        {
          "output_type": "stream",
          "name": "stdout",
          "text": [
            "Archive:  tinyimagenet200.zip\n",
            "replace tiny-imagenet-200/test/images/test_0.JPEG? [y]es, [n]o, [A]ll, [N]one, [r]ename: "
          ]
        }
      ]
    },
    {
      "cell_type": "markdown",
      "source": [
        "**Importing Libraries**"
      ],
      "metadata": {
        "id": "lUxa2Mh9kRY6"
      }
    },
    {
      "cell_type": "code",
      "source": [
        "import tensorflow as tf\n",
        "from tensorflow.keras.callbacks import ModelCheckpoint, LearningRateScheduler, TensorBoard\n",
        "from tensorflow.keras.layers import *\n",
        "from tensorflow.keras.models import Model, Sequential\n",
        "from tensorflow.keras.preprocessing import image\n",
        "import tensorflow.keras.backend as K\n",
        "import matplotlib.pyplot as plt\n",
        "import numpy as np\n",
        "import os\n",
        "import random\n",
        "from tqdm import tqdm\n",
        "import pandas as pd\n",
        "# No need for %matplotlib inline in scripts\n",
        "from tensorflow.keras.datasets import mnist, cifar10\n",
        "from tensorflow.keras.optimizers import Adam\n",
        "from tensorflow.keras.utils import to_categorical\n",
        "from tensorflow.keras.preprocessing.image import ImageDataGenerator\n",
        "from tensorflow.keras.callbacks import Callback, ModelCheckpoint\n"
      ],
      "metadata": {
        "id": "c_F3WZePjnnL"
      },
      "execution_count": 8,
      "outputs": []
    },
    {
      "cell_type": "markdown",
      "source": [
        "**Image Pre-Processing**"
      ],
      "metadata": {
        "id": "PRNX1GeMkISM"
      }
    },
    {
      "cell_type": "code",
      "source": [
        "import cv2\n",
        "#from keras.optimizers import Adam\n",
        "files = os.listdir('tiny-imagenet-200/train')\n",
        "files_te = os.listdir('tiny-imagenet-200/test/images')\n",
        "x_train = np.empty((2000,64,64,3), 'uint64')\n",
        "a=0\n",
        "for i in range(200):\n",
        "  idd = np.random.randint(0, 500, 10)\n",
        "  for j in range(10):\n",
        "    image = cv2.imread('tiny-imagenet-200/train/'+files[i]+'/images/'+files[i]+'_'+str(idd[j])+'.JPEG')\n",
        "    x_train[a] = image\n",
        "    a=a+1\n",
        "x_test = np.empty((2000,64,64,3), 'uint64')\n",
        "a=0\n",
        "for i in range(2000):\n",
        "    image = cv2.imread('tiny-imagenet-200/test/images/'+files_te[i])\n",
        "    x_test[a] = image\n",
        "    a=a+1\n",
        "input_S = x_train[0:1000]\n",
        "input_C = x_train[1000:]\n",
        "input_C = input_C/255.0\n",
        "input_S = input_S/255.0"
      ],
      "metadata": {
        "id": "5_IlUC7ZjpZ7"
      },
      "execution_count": 11,
      "outputs": []
    },
    {
      "cell_type": "code",
      "source": [
        "input_C"
      ],
      "metadata": {
        "colab": {
          "base_uri": "https://localhost:8080/"
        },
        "id": "DeAJ82mZjsRq",
        "outputId": "e6ccee1c-0350-4631-a110-50166f70e5ca"
      },
      "execution_count": 12,
      "outputs": [
        {
          "output_type": "execute_result",
          "data": {
            "text/plain": [
              "array([[[[0.68235294, 0.70588235, 0.75686275],\n",
              "         [0.57647059, 0.60392157, 0.63921569],\n",
              "         [0.97254902, 0.99215686, 1.        ],\n",
              "         ...,\n",
              "         [0.16078431, 0.15686275, 0.14117647],\n",
              "         [0.39215686, 0.38823529, 0.37254902],\n",
              "         [0.27058824, 0.26666667, 0.25098039]],\n",
              "\n",
              "        [[0.56078431, 0.58039216, 0.63921569],\n",
              "         [0.57647059, 0.6       , 0.64313725],\n",
              "         [0.90588235, 0.92156863, 0.94117647],\n",
              "         ...,\n",
              "         [0.2       , 0.19607843, 0.18039216],\n",
              "         [0.31764706, 0.31372549, 0.29803922],\n",
              "         [0.60392157, 0.6       , 0.58431373]],\n",
              "\n",
              "        [[0.49803922, 0.51372549, 0.58431373],\n",
              "         [0.53333333, 0.55686275, 0.60784314],\n",
              "         [0.67058824, 0.68235294, 0.71372549],\n",
              "         ...,\n",
              "         [0.38823529, 0.38431373, 0.36862745],\n",
              "         [0.56862745, 0.56470588, 0.54901961],\n",
              "         [0.22745098, 0.22352941, 0.20784314]],\n",
              "\n",
              "        ...,\n",
              "\n",
              "        [[0.58823529, 0.58431373, 0.56862745],\n",
              "         [0.59215686, 0.59215686, 0.56862745],\n",
              "         [0.58431373, 0.58039216, 0.56470588],\n",
              "         ...,\n",
              "         [0.76862745, 0.77254902, 0.75686275],\n",
              "         [0.76470588, 0.76862745, 0.75294118],\n",
              "         [0.75686275, 0.76078431, 0.74509804]],\n",
              "\n",
              "        [[0.57647059, 0.56862745, 0.56470588],\n",
              "         [0.58823529, 0.58431373, 0.56862745],\n",
              "         [0.58823529, 0.58039216, 0.57647059],\n",
              "         ...,\n",
              "         [0.76078431, 0.76470588, 0.74901961],\n",
              "         [0.75294118, 0.75686275, 0.74117647],\n",
              "         [0.74509804, 0.74901961, 0.73333333]],\n",
              "\n",
              "        [[0.58431373, 0.57647059, 0.57254902],\n",
              "         [0.60784314, 0.6       , 0.59607843],\n",
              "         [0.61568627, 0.60784314, 0.60392157],\n",
              "         ...,\n",
              "         [0.76078431, 0.76470588, 0.74901961],\n",
              "         [0.74901961, 0.75294118, 0.7372549 ],\n",
              "         [0.74117647, 0.74509804, 0.72941176]]],\n",
              "\n",
              "\n",
              "       [[[0.3372549 , 0.34901961, 0.31372549],\n",
              "         [0.32941176, 0.34117647, 0.30588235],\n",
              "         [0.33333333, 0.34509804, 0.30980392],\n",
              "         ...,\n",
              "         [1.        , 0.98823529, 0.99215686],\n",
              "         [1.        , 0.98431373, 0.98823529],\n",
              "         [1.        , 0.98039216, 0.98431373]],\n",
              "\n",
              "        [[0.3372549 , 0.34901961, 0.31372549],\n",
              "         [0.3254902 , 0.3372549 , 0.30196078],\n",
              "         [0.32941176, 0.34117647, 0.30588235],\n",
              "         ...,\n",
              "         [1.        , 0.98823529, 0.99215686],\n",
              "         [1.        , 0.98431373, 0.98823529],\n",
              "         [1.        , 0.98039216, 0.98431373]],\n",
              "\n",
              "        [[0.33333333, 0.34117647, 0.31764706],\n",
              "         [0.32156863, 0.32941176, 0.30588235],\n",
              "         [0.3254902 , 0.33333333, 0.30980392],\n",
              "         ...,\n",
              "         [1.        , 0.98431373, 0.98823529],\n",
              "         [1.        , 0.98039216, 0.98431373],\n",
              "         [0.99607843, 0.97647059, 0.98039216]],\n",
              "\n",
              "        ...,\n",
              "\n",
              "        [[0.7372549 , 0.78039216, 0.81176471],\n",
              "         [0.75686275, 0.8       , 0.83137255],\n",
              "         [0.78039216, 0.82352941, 0.85490196],\n",
              "         ...,\n",
              "         [0.82745098, 0.83921569, 0.89411765],\n",
              "         [0.84313725, 0.85490196, 0.90980392],\n",
              "         [0.8627451 , 0.8745098 , 0.92941176]],\n",
              "\n",
              "        [[0.74117647, 0.79607843, 0.81960784],\n",
              "         [0.75686275, 0.81176471, 0.83529412],\n",
              "         [0.77254902, 0.82745098, 0.85098039],\n",
              "         ...,\n",
              "         [0.78039216, 0.79215686, 0.84705882],\n",
              "         [0.8       , 0.81176471, 0.86666667],\n",
              "         [0.81960784, 0.83137255, 0.88627451]],\n",
              "\n",
              "        [[0.78823529, 0.85098039, 0.8745098 ],\n",
              "         [0.78039216, 0.84313725, 0.86666667],\n",
              "         [0.76862745, 0.83137255, 0.85490196],\n",
              "         ...,\n",
              "         [0.80784314, 0.81960784, 0.8745098 ],\n",
              "         [0.82352941, 0.83529412, 0.89019608],\n",
              "         [0.83921569, 0.85098039, 0.90588235]]],\n",
              "\n",
              "\n",
              "       [[[0.98823529, 0.97647059, 0.92156863],\n",
              "         [0.50980392, 0.49803922, 0.44313725],\n",
              "         [0.31764706, 0.31372549, 0.25882353],\n",
              "         ...,\n",
              "         [0.10196078, 0.1372549 , 0.08627451],\n",
              "         [0.25882353, 0.22352941, 0.18431373],\n",
              "         [0.10196078, 0.04313725, 0.00784314]],\n",
              "\n",
              "        [[0.49019608, 0.46666667, 0.41568627],\n",
              "         [0.53333333, 0.52156863, 0.46666667],\n",
              "         [0.27843137, 0.26666667, 0.21176471],\n",
              "         ...,\n",
              "         [0.10588235, 0.15294118, 0.10588235],\n",
              "         [0.14901961, 0.1372549 , 0.10588235],\n",
              "         [0.11764706, 0.08235294, 0.04705882]],\n",
              "\n",
              "        [[0.21960784, 0.18823529, 0.1372549 ],\n",
              "         [0.91764706, 0.89411765, 0.84313725],\n",
              "         [0.54509804, 0.52156863, 0.47058824],\n",
              "         ...,\n",
              "         [0.09411765, 0.17647059, 0.14509804],\n",
              "         [0.23921569, 0.26666667, 0.25490196],\n",
              "         [0.11764706, 0.13333333, 0.11372549]],\n",
              "\n",
              "        ...,\n",
              "\n",
              "        [[0.80392157, 0.87058824, 0.97647059],\n",
              "         [0.81960784, 0.88627451, 0.98823529],\n",
              "         [0.62745098, 0.69411765, 0.8       ],\n",
              "         ...,\n",
              "         [0.39607843, 0.41568627, 0.42745098],\n",
              "         [0.39215686, 0.41176471, 0.42352941],\n",
              "         [0.38431373, 0.40392157, 0.41568627]],\n",
              "\n",
              "        [[0.50588235, 0.57647059, 0.69019608],\n",
              "         [0.64313725, 0.71764706, 0.82352941],\n",
              "         [0.82745098, 0.89803922, 1.        ],\n",
              "         ...,\n",
              "         [0.41176471, 0.43137255, 0.44313725],\n",
              "         [0.41176471, 0.43137255, 0.44313725],\n",
              "         [0.41176471, 0.43137255, 0.44313725]],\n",
              "\n",
              "        [[0.53333333, 0.61568627, 0.7254902 ],\n",
              "         [0.45098039, 0.53333333, 0.64313725],\n",
              "         [0.48627451, 0.55686275, 0.67058824],\n",
              "         ...,\n",
              "         [0.40392157, 0.42352941, 0.43529412],\n",
              "         [0.40392157, 0.42352941, 0.43529412],\n",
              "         [0.40784314, 0.42745098, 0.43921569]]],\n",
              "\n",
              "\n",
              "       ...,\n",
              "\n",
              "\n",
              "       [[[0.43137255, 0.65882353, 0.52156863],\n",
              "         [0.37647059, 0.58823529, 0.45098039],\n",
              "         [0.18039216, 0.36470588, 0.23921569],\n",
              "         ...,\n",
              "         [0.01568627, 0.00392157, 0.        ],\n",
              "         [0.01960784, 0.00784314, 0.        ],\n",
              "         [0.02352941, 0.01176471, 0.        ]],\n",
              "\n",
              "        [[0.36470588, 0.58431373, 0.44705882],\n",
              "         [0.16470588, 0.37647059, 0.23921569],\n",
              "         [0.06666667, 0.23921569, 0.11764706],\n",
              "         ...,\n",
              "         [0.04705882, 0.03529412, 0.01960784],\n",
              "         [0.04705882, 0.03529412, 0.01960784],\n",
              "         [0.04313725, 0.03137255, 0.01568627]],\n",
              "\n",
              "        [[0.35294118, 0.56078431, 0.43137255],\n",
              "         [0.04313725, 0.23921569, 0.11372549],\n",
              "         [0.05098039, 0.22352941, 0.10196078],\n",
              "         ...,\n",
              "         [0.03921569, 0.03529412, 0.01960784],\n",
              "         [0.03137255, 0.02745098, 0.01176471],\n",
              "         [0.02352941, 0.01960784, 0.00392157]],\n",
              "\n",
              "        ...,\n",
              "\n",
              "        [[0.74509804, 0.79215686, 0.83137255],\n",
              "         [0.78823529, 0.84705882, 0.88235294],\n",
              "         [0.79215686, 0.83921569, 0.87843137],\n",
              "         ...,\n",
              "         [0.27843137, 0.34901961, 0.37647059],\n",
              "         [0.11764706, 0.19215686, 0.21960784],\n",
              "         [0.25098039, 0.3254902 , 0.35294118]],\n",
              "\n",
              "        [[0.90196078, 0.95686275, 1.        ],\n",
              "         [0.76470588, 0.82745098, 0.8745098 ],\n",
              "         [0.82745098, 0.88235294, 0.92941176],\n",
              "         ...,\n",
              "         [0.30588235, 0.36862745, 0.39607843],\n",
              "         [0.30980392, 0.37254902, 0.4       ],\n",
              "         [0.36078431, 0.42352941, 0.45098039]],\n",
              "\n",
              "        [[0.72156863, 0.78431373, 0.83137255],\n",
              "         [0.70980392, 0.77254902, 0.81960784],\n",
              "         [0.85098039, 0.91372549, 0.96078431],\n",
              "         ...,\n",
              "         [0.54117647, 0.59215686, 0.62352941],\n",
              "         [0.61960784, 0.67058824, 0.70196078],\n",
              "         [0.49019608, 0.54117647, 0.57254902]]],\n",
              "\n",
              "\n",
              "       [[[0.18431373, 0.2       , 0.15294118],\n",
              "         [0.25098039, 0.26666667, 0.21960784],\n",
              "         [0.48627451, 0.50196078, 0.45882353],\n",
              "         ...,\n",
              "         [0.18039216, 0.20392157, 0.2       ],\n",
              "         [0.17647059, 0.19215686, 0.19607843],\n",
              "         [0.15294118, 0.16862745, 0.17254902]],\n",
              "\n",
              "        [[0.1372549 , 0.16862745, 0.10196078],\n",
              "         [0.23921569, 0.27058824, 0.20392157],\n",
              "         [0.50588235, 0.5372549 , 0.47058824],\n",
              "         ...,\n",
              "         [0.23921569, 0.2627451 , 0.25882353],\n",
              "         [0.20392157, 0.21960784, 0.22352941],\n",
              "         [0.11764706, 0.13333333, 0.1372549 ]],\n",
              "\n",
              "        [[0.16470588, 0.21960784, 0.10980392],\n",
              "         [0.31764706, 0.37254902, 0.2627451 ],\n",
              "         [0.54901961, 0.60392157, 0.49411765],\n",
              "         ...,\n",
              "         [0.17647059, 0.19607843, 0.19215686],\n",
              "         [0.14509804, 0.16470588, 0.16078431],\n",
              "         [0.15686275, 0.17647059, 0.17254902]],\n",
              "\n",
              "        ...,\n",
              "\n",
              "        [[0.71764706, 0.79607843, 0.8627451 ],\n",
              "         [0.73333333, 0.82352941, 0.88235294],\n",
              "         [0.50980392, 0.58823529, 0.65490196],\n",
              "         ...,\n",
              "         [0.7254902 , 0.78823529, 0.83529412],\n",
              "         [0.68627451, 0.74901961, 0.79607843],\n",
              "         [0.75686275, 0.81960784, 0.86666667]],\n",
              "\n",
              "        [[0.67058824, 0.75686275, 0.82745098],\n",
              "         [0.62745098, 0.7254902 , 0.78823529],\n",
              "         [0.8745098 , 0.96078431, 1.        ],\n",
              "         ...,\n",
              "         [0.70588235, 0.76078431, 0.80784314],\n",
              "         [0.76862745, 0.81568627, 0.8627451 ],\n",
              "         [0.69803922, 0.74509804, 0.79215686]],\n",
              "\n",
              "        [[0.55294118, 0.64705882, 0.71764706],\n",
              "         [0.63137255, 0.7254902 , 0.79607843],\n",
              "         [0.65882353, 0.75294118, 0.82352941],\n",
              "         ...,\n",
              "         [0.76078431, 0.80784314, 0.85490196],\n",
              "         [0.80784314, 0.84313725, 0.89411765],\n",
              "         [0.71764706, 0.75294118, 0.80392157]]],\n",
              "\n",
              "\n",
              "       [[[0.62745098, 0.68627451, 0.63137255],\n",
              "         [0.35294118, 0.41176471, 0.35686275],\n",
              "         [0.43137255, 0.49803922, 0.44705882],\n",
              "         ...,\n",
              "         [0.18823529, 0.37647059, 0.2627451 ],\n",
              "         [0.25490196, 0.42745098, 0.31372549],\n",
              "         [0.37254902, 0.54509804, 0.43137255]],\n",
              "\n",
              "        [[0.70980392, 0.76862745, 0.71372549],\n",
              "         [0.25882353, 0.3254902 , 0.27058824],\n",
              "         [0.24313725, 0.30980392, 0.25882353],\n",
              "         ...,\n",
              "         [0.23137255, 0.41960784, 0.30588235],\n",
              "         [0.23529412, 0.41568627, 0.30196078],\n",
              "         [0.16862745, 0.34901961, 0.23529412]],\n",
              "\n",
              "        [[0.64313725, 0.70980392, 0.65490196],\n",
              "         [0.22745098, 0.30196078, 0.24313725],\n",
              "         [0.21568627, 0.28627451, 0.23529412],\n",
              "         ...,\n",
              "         [0.22745098, 0.41568627, 0.30196078],\n",
              "         [0.25490196, 0.44705882, 0.32156863],\n",
              "         [0.25882353, 0.45098039, 0.3254902 ]],\n",
              "\n",
              "        ...,\n",
              "\n",
              "        [[0.85490196, 0.85882353, 0.85098039],\n",
              "         [0.81960784, 0.82352941, 0.81568627],\n",
              "         [0.74901961, 0.75294118, 0.74509804],\n",
              "         ...,\n",
              "         [0.83529412, 0.84313725, 0.84313725],\n",
              "         [0.89803922, 0.90588235, 0.90588235],\n",
              "         [0.8627451 , 0.87058824, 0.87058824]],\n",
              "\n",
              "        [[0.81568627, 0.81960784, 0.81176471],\n",
              "         [0.85098039, 0.85490196, 0.84705882],\n",
              "         [0.83529412, 0.83921569, 0.83137255],\n",
              "         ...,\n",
              "         [0.90980392, 0.91764706, 0.91764706],\n",
              "         [0.83921569, 0.84705882, 0.84705882],\n",
              "         [0.78039216, 0.78823529, 0.78823529]],\n",
              "\n",
              "        [[0.87058824, 0.8745098 , 0.86666667],\n",
              "         [0.84705882, 0.85098039, 0.84313725],\n",
              "         [0.78823529, 0.79215686, 0.78431373],\n",
              "         ...,\n",
              "         [0.7372549 , 0.74509804, 0.74509804],\n",
              "         [0.77647059, 0.78431373, 0.78431373],\n",
              "         [0.81960784, 0.82745098, 0.82745098]]]])"
            ]
          },
          "metadata": {},
          "execution_count": 12
        }
      ]
    },
    {
      "cell_type": "code",
      "source": [
        "def prep_and_hide_network(input_size):\n",
        "  input_message = Input(shape=(input_size))\n",
        "  input_cover = Input(shape=(input_size))\n",
        "\n",
        "  x1 = Conv2D(50, (3,3), strides = (1,1), padding = 'same', activation = 'relu')(input_message)\n",
        "  x2 = Conv2D(10, (4,4), strides = (1,1), padding = 'same', activation = 'relu')(input_message)\n",
        "  x3 = Conv2D(5, (5,5), strides = (1,1), padding = 'same', activation = 'relu')(input_message)\n",
        "  x = concatenate([x1, x2, x3])\n",
        "\n",
        "  x1 = Conv2D(50, (3,3), strides = (1,1), padding = 'same', activation = 'relu')(x)\n",
        "  x2 = Conv2D(10, (4,4), strides = (1,1), padding = 'same', activation = 'relu')(x)\n",
        "  x3 = Conv2D(5, (5,5), strides = (1,1), padding = 'same', activation = 'relu')(x)\n",
        "  x = concatenate([x1, x2, x3])\n",
        "\n",
        "  x = concatenate([input_cover,x])\n",
        "\n",
        "\n",
        "  x1 = Conv2D(50, (3,3), strides = (1,1), padding = 'same', activation = 'relu')(x)\n",
        "  x2 = Conv2D(10, (4,4), strides = (1,1), padding = 'same', activation = 'relu')(x)\n",
        "  x3 = Conv2D(5, (5,5), strides = (1,1), padding = 'same', activation = 'relu')(x)\n",
        "  x = concatenate([x1, x2, x3])\n",
        "\n",
        "  x1 = Conv2D(50, (3,3), strides = (1,1), padding = 'same', activation = 'relu')(x)\n",
        "  x2 = Conv2D(10, (4,4), strides = (1,1), padding = 'same', activation = 'relu')(x)\n",
        "  x3 = Conv2D(5, (5,5), strides = (1,1), padding = 'same', activation = 'relu')(x)\n",
        "  x = concatenate([x1, x2, x3])\n",
        "\n",
        "  x1 = Conv2D(50, (3,3), strides = (1,1), padding = 'same', activation = 'relu')(x)\n",
        "  x2 = Conv2D(10, (4,4), strides = (1,1), padding = 'same', activation = 'relu')(x)\n",
        "  x3 = Conv2D(5, (5,5), strides = (1,1), padding = 'same', activation = 'relu')(x)\n",
        "  x = concatenate([x1, x2, x3])\n",
        "\n",
        "  x1 = Conv2D(50, (3,3), strides = (1,1), padding = 'same', activation = 'relu')(x)\n",
        "  x2 = Conv2D(10, (4,4), strides = (1,1), padding = 'same', activation = 'relu')(x)\n",
        "  x3 = Conv2D(5, (5,5), strides = (1,1), padding = 'same', activation = 'relu')(x)\n",
        "  x = concatenate([x1, x2, x3])\n",
        "\n",
        "  x1 = Conv2D(50, (3,3), strides = (1,1), padding = 'same', activation = 'relu')(x)\n",
        "  x2 = Conv2D(10, (4,4), strides = (1,1), padding = 'same', activation = 'relu')(x)\n",
        "  x3 = Conv2D(5, (5,5), strides = (1,1), padding = 'same', activation = 'relu')(x)\n",
        "  x = concatenate([x1, x2, x3])\n",
        "\n",
        "  image_container = Conv2D(3, (3,3), strides = (1,1), padding = 'same', activation = 'relu')(x)\n",
        "\n",
        "  encoder = Model(inputs = [input_message, input_cover],\n",
        "                  outputs = image_container)\n",
        "  return encoder"
      ],
      "metadata": {
        "id": "bgwX1rID8K3-"
      },
      "execution_count": 13,
      "outputs": []
    },
    {
      "cell_type": "code",
      "source": [
        "def reveal_network(input_size, fixed=False):\n",
        "  reveal_input = Input(shape=(input_size))\n",
        "\n",
        "  input_with_noise = GaussianNoise(0.01)(reveal_input)\n",
        "\n",
        "  x1 = Conv2D(50, (3,3), strides = (1,1), padding = 'same', activation = 'relu')(input_with_noise)\n",
        "  x2 = Conv2D(10, (3,3), strides = (1,1), padding = 'same', activation = 'relu')(input_with_noise)\n",
        "  x3 = Conv2D(5, (3,3), strides = (1,1), padding = 'same', activation = 'relu')(input_with_noise)\n",
        "  x = concatenate([x1, x2, x3])\n",
        "\n",
        "  x1 = Conv2D(50, (3,3), strides = (1,1), padding = 'same', activation = 'relu')(x)\n",
        "  x2 = Conv2D(10, (3,3), strides = (1,1), padding = 'same', activation = 'relu')(x)\n",
        "  x3 = Conv2D(5, (3,3), strides = (1,1), padding = 'same', activation = 'relu')(x)\n",
        "  x = concatenate([x1, x2, x3])\n",
        "\n",
        "  x1 = Conv2D(50, (3,3), strides = (1,1), padding = 'same', activation = 'relu')(x)\n",
        "  x2 = Conv2D(10, (3,3), strides = (1,1), padding = 'same', activation = 'relu')(x)\n",
        "  x3 = Conv2D(5, (3,3), strides = (1,1), padding = 'same', activation = 'relu')(x)\n",
        "  x = concatenate([x1, x2, x3])\n",
        "\n",
        "  x1 = Conv2D(50, (3,3), strides = (1,1), padding = 'same', activation = 'relu')(x)\n",
        "  x2 = Conv2D(10, (3,3), strides = (1,1), padding = 'same', activation = 'relu')(x)\n",
        "  x3 = Conv2D(5, (3,3), strides = (1,1), padding = 'same', activation = 'relu')(x)\n",
        "  x = concatenate([x1, x2, x3])\n",
        "\n",
        "  x1 = Conv2D(50, (3,3), strides = (1,1), padding = 'same', activation = 'relu')(x)\n",
        "  x2 = Conv2D(10, (3,3), strides = (1,1), padding = 'same', activation = 'relu')(x)\n",
        "  x3 = Conv2D(5, (3,3), strides = (1,1), padding = 'same', activation = 'relu')(x)\n",
        "  x = concatenate([x1, x2, x3])\n",
        "\n",
        "  message = Conv2D(3, (3,3), strides = (1,1), padding = 'same', activation = 'relu')(x)\n",
        "\n",
        "  reveal =  Model(inputs = reveal_input,\n",
        "                  outputs = message)\n",
        "\n",
        "  return reveal"
      ],
      "metadata": {
        "id": "ED8XuS0k_m2e"
      },
      "execution_count": 14,
      "outputs": []
    },
    {
      "cell_type": "code",
      "source": [
        "beta = 1.0\n",
        "def rev_loss(true,pred):\n",
        "  loss = beta*K.sum(K.square(true-pred))\n",
        "  return loss\n",
        "\n",
        "def full_loss(true,pred):\n",
        "  message_true, container_true = true[...,0:3], true[...,3:6]\n",
        "  message_pred, container_pred = pred[...,0:3], pred[...,3:6]\n",
        "\n",
        "  message_loss = rev_loss(message_true, message_pred)\n",
        "  container_loss = K.sum(K.square(container_true-container_pred))\n",
        "\n",
        "  loss = message_loss + container_loss\n",
        "  return loss"
      ],
      "metadata": {
        "id": "nZ8lUCZnCg9j"
      },
      "execution_count": 17,
      "outputs": []
    },
    {
      "cell_type": "code",
      "source": [
        "shape = input_S.shape[1:]\n",
        "\n",
        "input_message = Input(shape = (shape))\n",
        "input_container = Input(shape = (shape))\n",
        "\n",
        "prep_and_hide = prep_and_hide_network(shape)\n",
        "reveal = reveal_network(shape)\n",
        "\n",
        "reveal.compile(optimizer = 'adam',\n",
        "              loss = rev_loss)\n",
        "\n",
        "reveal.trainable = False\n",
        "\n",
        "output_container = prep_and_hide([input_message, input_container])\n",
        "output_message = reveal(output_container)\n",
        "\n",
        "deep_stean = Model(inputs = [input_message, input_container],\n",
        "                outputs = concatenate([output_message, output_container]))\n",
        "\n",
        "deep_stean.compile(optimizer = 'adam',\n",
        "                  loss = full_loss)"
      ],
      "metadata": {
        "id": "bVJdutzYCfQO"
      },
      "execution_count": 18,
      "outputs": []
    },
    {
      "cell_type": "code",
      "source": [
        "deep_stean.summary()"
      ],
      "metadata": {
        "colab": {
          "base_uri": "https://localhost:8080/",
          "height": 369
        },
        "id": "ABv178P0C0Le",
        "outputId": "95f51f68-1493-4f9d-89ed-bb2f16e22048"
      },
      "execution_count": 19,
      "outputs": [
        {
          "output_type": "display_data",
          "data": {
            "text/plain": [
              "\u001b[1mModel: \"functional_13\"\u001b[0m\n"
            ],
            "text/html": [
              "<pre style=\"white-space:pre;overflow-x:auto;line-height:normal;font-family:Menlo,'DejaVu Sans Mono',consolas,'Courier New',monospace\"><span style=\"font-weight: bold\">Model: \"functional_13\"</span>\n",
              "</pre>\n"
            ]
          },
          "metadata": {}
        },
        {
          "output_type": "display_data",
          "data": {
            "text/plain": [
              "┏━━━━━━━━━━━━━━━━━━━━━━━━━━━┳━━━━━━━━━━━━━━━━━━━━━━━━┳━━━━━━━━━━━━━━━━┳━━━━━━━━━━━━━━━━━━━━━━━━┓\n",
              "┃\u001b[1m \u001b[0m\u001b[1mLayer (type)             \u001b[0m\u001b[1m \u001b[0m┃\u001b[1m \u001b[0m\u001b[1mOutput Shape          \u001b[0m\u001b[1m \u001b[0m┃\u001b[1m \u001b[0m\u001b[1m       Param #\u001b[0m\u001b[1m \u001b[0m┃\u001b[1m \u001b[0m\u001b[1mConnected to          \u001b[0m\u001b[1m \u001b[0m┃\n",
              "┡━━━━━━━━━━━━━━━━━━━━━━━━━━━╇━━━━━━━━━━━━━━━━━━━━━━━━╇━━━━━━━━━━━━━━━━╇━━━━━━━━━━━━━━━━━━━━━━━━┩\n",
              "│ input_layer_10            │ (\u001b[38;5;45mNone\u001b[0m, \u001b[38;5;34m64\u001b[0m, \u001b[38;5;34m64\u001b[0m, \u001b[38;5;34m3\u001b[0m)      │              \u001b[38;5;34m0\u001b[0m │ -                      │\n",
              "│ (\u001b[38;5;33mInputLayer\u001b[0m)              │                        │                │                        │\n",
              "├───────────────────────────┼────────────────────────┼────────────────┼────────────────────────┤\n",
              "│ input_layer_11            │ (\u001b[38;5;45mNone\u001b[0m, \u001b[38;5;34m64\u001b[0m, \u001b[38;5;34m64\u001b[0m, \u001b[38;5;34m3\u001b[0m)      │              \u001b[38;5;34m0\u001b[0m │ -                      │\n",
              "│ (\u001b[38;5;33mInputLayer\u001b[0m)              │                        │                │                        │\n",
              "├───────────────────────────┼────────────────────────┼────────────────┼────────────────────────┤\n",
              "│ functional_9 (\u001b[38;5;33mFunctional\u001b[0m) │ (\u001b[38;5;45mNone\u001b[0m, \u001b[38;5;34m64\u001b[0m, \u001b[38;5;34m64\u001b[0m, \u001b[38;5;34m3\u001b[0m)      │        \u001b[38;5;34m293,273\u001b[0m │ input_layer_10[\u001b[38;5;34m0\u001b[0m][\u001b[38;5;34m0\u001b[0m],  │\n",
              "│                           │                        │                │ input_layer_11[\u001b[38;5;34m0\u001b[0m][\u001b[38;5;34m0\u001b[0m]   │\n",
              "├───────────────────────────┼────────────────────────┼────────────────┼────────────────────────┤\n",
              "│ functional_11             │ (\u001b[38;5;45mNone\u001b[0m, \u001b[38;5;34m64\u001b[0m, \u001b[38;5;34m64\u001b[0m, \u001b[38;5;34m3\u001b[0m)      │        \u001b[38;5;34m155,938\u001b[0m │ functional_9[\u001b[38;5;34m0\u001b[0m][\u001b[38;5;34m0\u001b[0m]     │\n",
              "│ (\u001b[38;5;33mFunctional\u001b[0m)              │                        │                │                        │\n",
              "├───────────────────────────┼────────────────────────┼────────────────┼────────────────────────┤\n",
              "│ concatenate_39            │ (\u001b[38;5;45mNone\u001b[0m, \u001b[38;5;34m64\u001b[0m, \u001b[38;5;34m64\u001b[0m, \u001b[38;5;34m6\u001b[0m)      │              \u001b[38;5;34m0\u001b[0m │ functional_11[\u001b[38;5;34m0\u001b[0m][\u001b[38;5;34m0\u001b[0m],   │\n",
              "│ (\u001b[38;5;33mConcatenate\u001b[0m)             │                        │                │ functional_9[\u001b[38;5;34m0\u001b[0m][\u001b[38;5;34m0\u001b[0m]     │\n",
              "└───────────────────────────┴────────────────────────┴────────────────┴────────────────────────┘\n"
            ],
            "text/html": [
              "<pre style=\"white-space:pre;overflow-x:auto;line-height:normal;font-family:Menlo,'DejaVu Sans Mono',consolas,'Courier New',monospace\">┏━━━━━━━━━━━━━━━━━━━━━━━━━━━┳━━━━━━━━━━━━━━━━━━━━━━━━┳━━━━━━━━━━━━━━━━┳━━━━━━━━━━━━━━━━━━━━━━━━┓\n",
              "┃<span style=\"font-weight: bold\"> Layer (type)              </span>┃<span style=\"font-weight: bold\"> Output Shape           </span>┃<span style=\"font-weight: bold\">        Param # </span>┃<span style=\"font-weight: bold\"> Connected to           </span>┃\n",
              "┡━━━━━━━━━━━━━━━━━━━━━━━━━━━╇━━━━━━━━━━━━━━━━━━━━━━━━╇━━━━━━━━━━━━━━━━╇━━━━━━━━━━━━━━━━━━━━━━━━┩\n",
              "│ input_layer_10            │ (<span style=\"color: #00d7ff; text-decoration-color: #00d7ff\">None</span>, <span style=\"color: #00af00; text-decoration-color: #00af00\">64</span>, <span style=\"color: #00af00; text-decoration-color: #00af00\">64</span>, <span style=\"color: #00af00; text-decoration-color: #00af00\">3</span>)      │              <span style=\"color: #00af00; text-decoration-color: #00af00\">0</span> │ -                      │\n",
              "│ (<span style=\"color: #0087ff; text-decoration-color: #0087ff\">InputLayer</span>)              │                        │                │                        │\n",
              "├───────────────────────────┼────────────────────────┼────────────────┼────────────────────────┤\n",
              "│ input_layer_11            │ (<span style=\"color: #00d7ff; text-decoration-color: #00d7ff\">None</span>, <span style=\"color: #00af00; text-decoration-color: #00af00\">64</span>, <span style=\"color: #00af00; text-decoration-color: #00af00\">64</span>, <span style=\"color: #00af00; text-decoration-color: #00af00\">3</span>)      │              <span style=\"color: #00af00; text-decoration-color: #00af00\">0</span> │ -                      │\n",
              "│ (<span style=\"color: #0087ff; text-decoration-color: #0087ff\">InputLayer</span>)              │                        │                │                        │\n",
              "├───────────────────────────┼────────────────────────┼────────────────┼────────────────────────┤\n",
              "│ functional_9 (<span style=\"color: #0087ff; text-decoration-color: #0087ff\">Functional</span>) │ (<span style=\"color: #00d7ff; text-decoration-color: #00d7ff\">None</span>, <span style=\"color: #00af00; text-decoration-color: #00af00\">64</span>, <span style=\"color: #00af00; text-decoration-color: #00af00\">64</span>, <span style=\"color: #00af00; text-decoration-color: #00af00\">3</span>)      │        <span style=\"color: #00af00; text-decoration-color: #00af00\">293,273</span> │ input_layer_10[<span style=\"color: #00af00; text-decoration-color: #00af00\">0</span>][<span style=\"color: #00af00; text-decoration-color: #00af00\">0</span>],  │\n",
              "│                           │                        │                │ input_layer_11[<span style=\"color: #00af00; text-decoration-color: #00af00\">0</span>][<span style=\"color: #00af00; text-decoration-color: #00af00\">0</span>]   │\n",
              "├───────────────────────────┼────────────────────────┼────────────────┼────────────────────────┤\n",
              "│ functional_11             │ (<span style=\"color: #00d7ff; text-decoration-color: #00d7ff\">None</span>, <span style=\"color: #00af00; text-decoration-color: #00af00\">64</span>, <span style=\"color: #00af00; text-decoration-color: #00af00\">64</span>, <span style=\"color: #00af00; text-decoration-color: #00af00\">3</span>)      │        <span style=\"color: #00af00; text-decoration-color: #00af00\">155,938</span> │ functional_9[<span style=\"color: #00af00; text-decoration-color: #00af00\">0</span>][<span style=\"color: #00af00; text-decoration-color: #00af00\">0</span>]     │\n",
              "│ (<span style=\"color: #0087ff; text-decoration-color: #0087ff\">Functional</span>)              │                        │                │                        │\n",
              "├───────────────────────────┼────────────────────────┼────────────────┼────────────────────────┤\n",
              "│ concatenate_39            │ (<span style=\"color: #00d7ff; text-decoration-color: #00d7ff\">None</span>, <span style=\"color: #00af00; text-decoration-color: #00af00\">64</span>, <span style=\"color: #00af00; text-decoration-color: #00af00\">64</span>, <span style=\"color: #00af00; text-decoration-color: #00af00\">6</span>)      │              <span style=\"color: #00af00; text-decoration-color: #00af00\">0</span> │ functional_11[<span style=\"color: #00af00; text-decoration-color: #00af00\">0</span>][<span style=\"color: #00af00; text-decoration-color: #00af00\">0</span>],   │\n",
              "│ (<span style=\"color: #0087ff; text-decoration-color: #0087ff\">Concatenate</span>)             │                        │                │ functional_9[<span style=\"color: #00af00; text-decoration-color: #00af00\">0</span>][<span style=\"color: #00af00; text-decoration-color: #00af00\">0</span>]     │\n",
              "└───────────────────────────┴────────────────────────┴────────────────┴────────────────────────┘\n",
              "</pre>\n"
            ]
          },
          "metadata": {}
        },
        {
          "output_type": "display_data",
          "data": {
            "text/plain": [
              "\u001b[1m Total params: \u001b[0m\u001b[38;5;34m449,211\u001b[0m (1.71 MB)\n"
            ],
            "text/html": [
              "<pre style=\"white-space:pre;overflow-x:auto;line-height:normal;font-family:Menlo,'DejaVu Sans Mono',consolas,'Courier New',monospace\"><span style=\"font-weight: bold\"> Total params: </span><span style=\"color: #00af00; text-decoration-color: #00af00\">449,211</span> (1.71 MB)\n",
              "</pre>\n"
            ]
          },
          "metadata": {}
        },
        {
          "output_type": "display_data",
          "data": {
            "text/plain": [
              "\u001b[1m Trainable params: \u001b[0m\u001b[38;5;34m293,273\u001b[0m (1.12 MB)\n"
            ],
            "text/html": [
              "<pre style=\"white-space:pre;overflow-x:auto;line-height:normal;font-family:Menlo,'DejaVu Sans Mono',consolas,'Courier New',monospace\"><span style=\"font-weight: bold\"> Trainable params: </span><span style=\"color: #00af00; text-decoration-color: #00af00\">293,273</span> (1.12 MB)\n",
              "</pre>\n"
            ]
          },
          "metadata": {}
        },
        {
          "output_type": "display_data",
          "data": {
            "text/plain": [
              "\u001b[1m Non-trainable params: \u001b[0m\u001b[38;5;34m155,938\u001b[0m (609.13 KB)\n"
            ],
            "text/html": [
              "<pre style=\"white-space:pre;overflow-x:auto;line-height:normal;font-family:Menlo,'DejaVu Sans Mono',consolas,'Courier New',monospace\"><span style=\"font-weight: bold\"> Non-trainable params: </span><span style=\"color: #00af00; text-decoration-color: #00af00\">155,938</span> (609.13 KB)\n",
              "</pre>\n"
            ]
          },
          "metadata": {}
        }
      ]
    }
  ]
}